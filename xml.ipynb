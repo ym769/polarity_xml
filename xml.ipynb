{
 "cells": [
  {
   "cell_type": "markdown",
   "metadata": {},
   "source": [
    "https://www.sejuku.net/blog/74013  \n",
    "https://github.com/sloria/TextBlob/blob/eb08c120d364e908646731d60b4e4c6c1712ff63/textblob/en/en-sentiment.xml  "
   ]
  },
  {
   "cell_type": "code",
   "execution_count": 8,
   "metadata": {},
   "outputs": [],
   "source": [
    "with open(\"blobpolarity.xml\") as response:\n",
    "    xml_string = response.read()"
   ]
  },
  {
   "cell_type": "code",
   "execution_count": 10,
   "metadata": {},
   "outputs": [
    {
     "name": "stdout",
     "output_type": "stream",
     "text": [
      "sentiment {'language': 'en', 'version': '1.3', 'author': 'Tom De Smedt, Walter Daelemans', 'license': 'PDDL'}\n"
     ]
    }
   ],
   "source": [
    "print(root.tag,root.attrib)"
   ]
  },
  {
   "cell_type": "code",
   "execution_count": 12,
   "metadata": {},
   "outputs": [
    {
     "name": "stdout",
     "output_type": "stream",
     "text": [
      "word\n",
      "{'form': '13th', 'wordnet_id': 'a-02203763', 'pos': 'JJ', 'sense': 'coming next after the twelfth in position', 'polarity': '0.0', 'subjectivity': '0.0', 'intensity': '1.0', 'confidence': '0.9'}\n"
     ]
    }
   ],
   "source": [
    "child = root[0]\n",
    "print(child.tag)\n",
    "print(child.attrib)"
   ]
  },
  {
   "cell_type": "code",
   "execution_count": 14,
   "metadata": {},
   "outputs": [
    {
     "name": "stdout",
     "output_type": "stream",
     "text": [
      "{'form': '13th', 'wordnet_id': 'a-02203763', 'pos': 'JJ', 'sense': 'coming next after the twelfth in position', 'polarity': '0.0', 'subjectivity': '0.0', 'intensity': '1.0', 'confidence': '0.9'}\n",
      "{'form': '20th', 'cornetto_synset_id': 'n_a-531612', 'wordnet_id': 'a-02204716', 'pos': 'JJ', 'sense': 'coming next after the nineteenth in position', 'polarity': '0.0', 'subjectivity': '0.0', 'intensity': '1.0', 'confidence': '0.9'}\n",
      "{'form': '21st', 'wordnet_id': 'a-02204823', 'pos': 'JJ', 'sense': 'coming next after the twentieth in position', 'polarity': '0.0', 'subjectivity': '0.0', 'intensity': '1.0', 'confidence': '0.9'}\n",
      "{'form': '2nd', 'wordnet_id': 'a-02202146', 'pos': 'JJ', 'sense': 'coming next after the first in position in space or time or degree or magnitude', 'polarity': '0.0', 'subjectivity': '0.0', 'intensity': '1.0', 'confidence': '0.9'}\n",
      "{'form': '3rd', 'cornetto_synset_id': 'n_a-530634', 'wordnet_id': 'a-02202307', 'pos': 'JJ', 'sense': 'coming next after the second and just before the fourth in position', 'polarity': '0.0', 'subjectivity': '0.0', 'intensity': '1.0', 'confidence': '0.9'}\n",
      "{'form': 'abhorrent', 'wordnet_id': 'a-1625063', 'pos': 'JJ', 'sense': 'offensive to the mind', 'polarity': '-0.7', 'subjectivity': '0.8', 'intensity': '1.0', 'reliability': '0.9'}\n",
      "{'form': 'able', 'cornetto_synset_id': 'n_a-534450', 'wordnet_id': 'a-01017439', 'pos': 'JJ', 'sense': 'having a strong healthy body', 'polarity': '0.5', 'subjectivity': '1.0', 'intensity': '1.0', 'confidence': '0.9'}\n",
      "{'form': 'able', 'wordnet_id': 'a-00001740', 'pos': 'JJ', 'sense': \"(usually followed by 'to') having the necessary means or skill or know-how or authority to do something\", 'polarity': '0.5', 'subjectivity': '0.5', 'intensity': '1.0', 'confidence': '0.9'}\n",
      "{'form': 'able', 'wordnet_id': 'a-00306663', 'pos': 'JJ', 'sense': 'having inherent physical or mental ability or capacity', 'polarity': '0.5', 'subjectivity': '0.5', 'intensity': '1.0', 'confidence': '0.9'}\n",
      "{'form': 'able', 'wordnet_id': 'a-00510348', 'pos': 'JJ', 'sense': 'have the skills and qualifications to do things well', 'polarity': '0.5', 'subjectivity': '0.5', 'intensity': '1.0', 'confidence': '0.9'}\n"
     ]
    }
   ],
   "source": [
    "for i in range(10):\n",
    "    print(root[i].attrib)"
   ]
  },
  {
   "cell_type": "code",
   "execution_count": 15,
   "metadata": {},
   "outputs": [
    {
     "data": {
      "text/plain": [
       "2918"
      ]
     },
     "execution_count": 15,
     "metadata": {},
     "output_type": "execute_result"
    }
   ],
   "source": [
    "len(root)"
   ]
  },
  {
   "cell_type": "code",
   "execution_count": null,
   "metadata": {},
   "outputs": [],
   "source": []
  }
 ],
 "metadata": {
  "kernelspec": {
   "display_name": "Python 3",
   "language": "python",
   "name": "python3"
  },
  "language_info": {
   "codemirror_mode": {
    "name": "ipython",
    "version": 3
   },
   "file_extension": ".py",
   "mimetype": "text/x-python",
   "name": "python",
   "nbconvert_exporter": "python",
   "pygments_lexer": "ipython3",
   "version": "3.7.3"
  }
 },
 "nbformat": 4,
 "nbformat_minor": 2
}
